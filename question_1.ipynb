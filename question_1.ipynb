{
 "cells": [
  {
   "cell_type": "code",
   "execution_count": 1,
   "metadata": {},
   "outputs": [],
   "source": [
    "#import modules\n",
    "from lxml import html\n",
    "import re\n",
    "import requests\n",
    "import pandas as pd\n",
    "from datetime import datetime\n",
    "import os"
   ]
  },
  {
   "cell_type": "code",
   "execution_count": 2,
   "metadata": {},
   "outputs": [],
   "source": [
    "# create file path\n",
    "CWD = os.getcwd()\n",
    "PTH = f'{CWD}/Data Engineer Scraping test - 17-06-21'"
   ]
  },
  {
   "cell_type": "code",
   "execution_count": 3,
   "metadata": {},
   "outputs": [],
   "source": [
    "# get html and tree\n",
    "html_page_link = 'candidateEvalData/webpage.html'\n",
    "tree = html.parse(f'{PTH}/{html_page_link}')"
   ]
  },
  {
   "cell_type": "code",
   "execution_count": 6,
   "metadata": {},
   "outputs": [
    {
     "name": "stdout",
     "output_type": "stream",
     "text": [
      "Peter Doig\n"
     ]
    }
   ],
   "source": [
    "# parse artist name\n",
    "name = ' '.join(\n",
    "    re.findall(r'[A-Z]\\w+', tree.xpath('//h1[@id=\"main_center_0_lblLotPrimaryTitle\"]/text()')[0])\n",
    "    )\n",
    "print(name)"
   ]
  },
  {
   "cell_type": "code",
   "execution_count": 7,
   "metadata": {},
   "outputs": [
    {
     "name": "stdout",
     "output_type": "stream",
     "text": [
      "The Architect's Home in the Ravine\n"
     ]
    }
   ],
   "source": [
    "# parse painting name\n",
    "painting = tree.xpath('//h2[@id=\"main_center_0_lblLotSecondaryTitle\"]/i/text()')[0].strip()\n",
    "print(painting)"
   ]
  },
  {
   "cell_type": "code",
   "execution_count": 8,
   "metadata": {},
   "outputs": [
    {
     "name": "stdout",
     "output_type": "stream",
     "text": [
      "11 282 500\n"
     ]
    }
   ],
   "source": [
    "# parse price GBP\n",
    "price_gbp = ' '.join(\n",
    "    re.findall(r'[0-9]+', tree.xpath('//span[@id=\"main_center_0_lblPriceRealizedPrimary\"]/text()')[0])\n",
    "    )\n",
    "print(price_gbp)"
   ]
  },
  {
   "cell_type": "code",
   "execution_count": 18,
   "metadata": {},
   "outputs": [
    {
     "name": "stdout",
     "output_type": "stream",
     "text": [
      "6 370 908\n",
      "16 370 908\n"
     ]
    }
   ],
   "source": [
    "# parse price USD (6 370 908 requested different from actual figure 16 370 908)\n",
    "price_usd_req = ''.join(\n",
    "    [p.replace(',', ' ') for p in\n",
    "     re.findall(r'(\\d{2,3},\\d{2,3},\\d{2,3})',\n",
    "                tree.xpath('//div[@id=\"main_center_0_lblPriceRealizedSecondary\"]/text()')[0])\n",
    "    ])[1:]\n",
    "# actual\n",
    "price_usd_act = ''.join(\n",
    "    [p.replace(',', ' ') for p in\n",
    "     re.findall(r'(\\d{2,3},\\d{2,3},\\d{2,3})',\n",
    "                tree.xpath('//div[@id=\"main_center_0_lblPriceRealizedSecondary\"]/text()')[0])\n",
    "    ])\n",
    "print(price_usd_req)\n",
    "print(price_usd_act)"
   ]
  },
  {
   "cell_type": "code",
   "execution_count": 19,
   "metadata": {},
   "outputs": [
    {
     "name": "stdout",
     "output_type": "stream",
     "text": [
      "10 000 000, 15 000 000\n"
     ]
    }
   ],
   "source": [
    "# parse price GBP est\n",
    "est_gbp = (', ').join(\n",
    "    [p.replace(',', ' ') for p in\n",
    "     re.findall(r'(\\d{2,3},\\d{2,3},\\d{2,3})',\n",
    "                tree.xpath('//span[@id=\"main_center_0_lblPriceEstimatedPrimary\"]/text()')[0])]\n",
    "    )\n",
    "print(est_gbp)"
   ]
  },
  {
   "cell_type": "code",
   "execution_count": 28,
   "metadata": {},
   "outputs": [
    {
     "name": "stdout",
     "output_type": "stream",
     "text": [
      "14 509 999, 21 764 999\n"
     ]
    }
   ],
   "source": [
    "# parse price USD est\n",
    "est_usd = (', ').join(\n",
    "    [p.replace(',', ' ') for p in\n",
    "     re.findall(r'(\\d{2,3},\\d{2,3},\\d{2,3})',\n",
    "                tree.xpath('//span[@id=\"main_center_0_lblPriceEstimatedSecondary\"]/text()')[0])]\n",
    "    )\n",
    "print(est_usd)"
   ]
  },
  {
   "cell_type": "code",
   "execution_count": 21,
   "metadata": {},
   "outputs": [
    {
     "name": "stdout",
     "output_type": "stream",
     "text": [
      "http://www.christies.com/lotfinderimages/D59730/peter_doig_the_architects_home_in_the_ravine_d5973059g.jpg\n"
     ]
    }
   ],
   "source": [
    "# parse image link\n",
    "image_url = tree.xpath('//img[@id=\"imgLotImage\"]/@src')[0]\n",
    "print(image_url)"
   ]
  },
  {
   "cell_type": "code",
   "execution_count": 23,
   "metadata": {},
   "outputs": [
    {
     "name": "stdout",
     "output_type": "stream",
     "text": [
      "2016-02-11\n"
     ]
    }
   ],
   "source": [
    "# parse sale date\n",
    "sale_date = datetime.strptime(\n",
    "    re.findall(r'(\\d{2}\\s[A-Z]\\w+\\s\\d{4})',\n",
    "               tree.xpath('//span[@id=\"main_center_0_lblSaleDate\"]/text()')[0])[0],'%d %B %Y'\n",
    "    ).date()\n",
    "\n",
    "sale_date = datetime.strftime(sale_date, '%Y-%m-%d')\n",
    "print(sale_date)"
   ]
  },
  {
   "cell_type": "code",
   "execution_count": 29,
   "metadata": {},
   "outputs": [
    {
     "data": {
      "text/html": [
       "<div>\n",
       "<style scoped>\n",
       "    .dataframe tbody tr th:only-of-type {\n",
       "        vertical-align: middle;\n",
       "    }\n",
       "\n",
       "    .dataframe tbody tr th {\n",
       "        vertical-align: top;\n",
       "    }\n",
       "\n",
       "    .dataframe thead th {\n",
       "        text-align: right;\n",
       "    }\n",
       "</style>\n",
       "<table border=\"1\" class=\"dataframe\">\n",
       "  <thead>\n",
       "    <tr style=\"text-align: right;\">\n",
       "      <th></th>\n",
       "      <th>Name of artist</th>\n",
       "      <th>Name of Painting</th>\n",
       "      <th>Price realised GBP</th>\n",
       "      <th>Price realised USD</th>\n",
       "      <th>Estimates GBP</th>\n",
       "      <th>Estimates USD</th>\n",
       "      <th>Image url</th>\n",
       "      <th>Sale date</th>\n",
       "    </tr>\n",
       "  </thead>\n",
       "  <tbody>\n",
       "    <tr>\n",
       "      <th>0</th>\n",
       "      <td>Peter Doig</td>\n",
       "      <td>The Architect's Home in the Ravine</td>\n",
       "      <td>11 282 500</td>\n",
       "      <td>16 370 908</td>\n",
       "      <td>10 000 000, 15 000 000</td>\n",
       "      <td>14 509 999, 21 764 999</td>\n",
       "      <td>http://www.christies.com/lotfinderimages/D5973...</td>\n",
       "      <td>2016-02-11</td>\n",
       "    </tr>\n",
       "  </tbody>\n",
       "</table>\n",
       "</div>"
      ],
      "text/plain": [
       "  Name of artist                    Name of Painting Price realised GBP  \\\n",
       "0     Peter Doig  The Architect's Home in the Ravine         11 282 500   \n",
       "\n",
       "  Price realised USD           Estimates GBP           Estimates USD  \\\n",
       "0         16 370 908  10 000 000, 15 000 000  14 509 999, 21 764 999   \n",
       "\n",
       "                                           Image url   Sale date  \n",
       "0  http://www.christies.com/lotfinderimages/D5973...  2016-02-11  "
      ]
     },
     "execution_count": 29,
     "metadata": {},
     "output_type": "execute_result"
    }
   ],
   "source": [
    "data = [{'Name of artist': name, 'Name of Painting': painting, 'Price realised GBP': price_gbp,\n",
    "        'Price realised USD': price_usd_act, 'Estimates GBP': est_gbp, 'Estimates USD': est_usd,\n",
    "        'Image url': image_url, 'Sale date': sale_date}]\n",
    "df = pd.DataFrame(data)\n",
    "df.head()"
   ]
  }
 ],
 "metadata": {
  "interpreter": {
   "hash": "92b1aa4e0bbc676d0e08a25aec1dec449e78efa34ab1bdcd4f579a2b09ce80f4"
  },
  "kernelspec": {
   "display_name": "Python 3 (ipykernel)",
   "language": "python",
   "name": "python3"
  },
  "language_info": {
   "codemirror_mode": {
    "name": "ipython",
    "version": 3
   },
   "file_extension": ".py",
   "mimetype": "text/x-python",
   "name": "python",
   "nbconvert_exporter": "python",
   "pygments_lexer": "ipython3",
   "version": "3.8.10"
  }
 },
 "nbformat": 4,
 "nbformat_minor": 2
}
