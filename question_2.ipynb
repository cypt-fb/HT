{
 "cells": [
  {
   "cell_type": "code",
   "execution_count": 1,
   "metadata": {},
   "outputs": [
    {
     "data": {
      "text/html": [
       "<div>\n",
       "<style scoped>\n",
       "    .dataframe tbody tr th:only-of-type {\n",
       "        vertical-align: middle;\n",
       "    }\n",
       "\n",
       "    .dataframe tbody tr th {\n",
       "        vertical-align: top;\n",
       "    }\n",
       "\n",
       "    .dataframe thead th {\n",
       "        text-align: right;\n",
       "    }\n",
       "</style>\n",
       "<table border=\"1\" class=\"dataframe\">\n",
       "  <thead>\n",
       "    <tr style=\"text-align: right;\">\n",
       "      <th></th>\n",
       "      <th>rawDim</th>\n",
       "      <th>height</th>\n",
       "      <th>width</th>\n",
       "      <th>depth</th>\n",
       "    </tr>\n",
       "  </thead>\n",
       "  <tbody>\n",
       "    <tr>\n",
       "      <th>0</th>\n",
       "      <td>19×52cm</td>\n",
       "      <td>19.0</td>\n",
       "      <td>52.0</td>\n",
       "      <td>NaN</td>\n",
       "    </tr>\n",
       "    <tr>\n",
       "      <th>1</th>\n",
       "      <td>50 x 66,4 cm</td>\n",
       "      <td>50.0</td>\n",
       "      <td>66.4</td>\n",
       "      <td>NaN</td>\n",
       "    </tr>\n",
       "    <tr>\n",
       "      <th>2</th>\n",
       "      <td>168.9 x 274.3 x 3.8 cm (66 1/2 x 108 x 1 1/2 in.)</td>\n",
       "      <td>168.9</td>\n",
       "      <td>274.3</td>\n",
       "      <td>3.8</td>\n",
       "    </tr>\n",
       "    <tr>\n",
       "      <th>3</th>\n",
       "      <td>Sheet: 16 1/4 × 12 1/4 in. (41.3 × 31.1 cm) Im...</td>\n",
       "      <td>35.6</td>\n",
       "      <td>25.1</td>\n",
       "      <td>NaN</td>\n",
       "    </tr>\n",
       "    <tr>\n",
       "      <th>4</th>\n",
       "      <td>5 by 5in</td>\n",
       "      <td>12.7</td>\n",
       "      <td>12.7</td>\n",
       "      <td>NaN</td>\n",
       "    </tr>\n",
       "  </tbody>\n",
       "</table>\n",
       "</div>"
      ],
      "text/plain": [
       "                                              rawDim  height  width  depth\n",
       "0                                            19×52cm    19.0   52.0    NaN\n",
       "1                                       50 x 66,4 cm    50.0   66.4    NaN\n",
       "2  168.9 x 274.3 x 3.8 cm (66 1/2 x 108 x 1 1/2 in.)   168.9  274.3    3.8\n",
       "3  Sheet: 16 1/4 × 12 1/4 in. (41.3 × 31.1 cm) Im...    35.6   25.1    NaN\n",
       "4                                           5 by 5in    12.7   12.7    NaN"
      ]
     },
     "execution_count": 1,
     "metadata": {},
     "output_type": "execute_result"
    }
   ],
   "source": [
    "import re\n",
    "import pandas as pd\n",
    "import os\n",
    "\n",
    "# create file path\n",
    "CWD = os.getcwd()\n",
    "PTH = f'{CWD}/Data Engineer Scraping test - 17-06-21'\n",
    "\n",
    "dim_df = pd.read_csv(f\"{PTH}/candidateEvalData/dim_df_correct.csv\")\n",
    "dim_df"
   ]
  },
  {
   "cell_type": "code",
   "execution_count": 89,
   "metadata": {},
   "outputs": [],
   "source": [
    "# get rawDim as list of str to use for task\n",
    "raw_dim = dim_df['rawDim'].tolist()\n",
    "s1 = raw_dim[0]\n",
    "s2 = raw_dim[1]\n",
    "s3 = raw_dim[2]\n",
    "s4 = raw_dim[3]\n",
    "s5 = raw_dim[4]"
   ]
  },
  {
   "cell_type": "code",
   "execution_count": 49,
   "metadata": {},
   "outputs": [
    {
     "data": {
      "text/plain": [
       "[19.0, 52.0]"
      ]
     },
     "execution_count": 49,
     "metadata": {},
     "output_type": "execute_result"
    }
   ],
   "source": [
    "# rawDim line 1 regex result converted to float\n",
    "r1 = [float(p) for p in\n",
    "      re.findall(r'(\\d+).(\\d+)', s1)[0]]\n",
    "r1"
   ]
  },
  {
   "cell_type": "code",
   "execution_count": 74,
   "metadata": {},
   "outputs": [
    {
     "data": {
      "text/plain": [
       "[50.0, 66.4]"
      ]
     },
     "execution_count": 74,
     "metadata": {},
     "output_type": "execute_result"
    }
   ],
   "source": [
    "# rawDim line 2 regex result converted to float\n",
    "r2 = [float(p.replace(',', '.')) for p in\n",
    "      re.findall(r'(\\d+)[^\\d]+(\\d+,\\d)', s2)[0]]\n",
    "r2"
   ]
  },
  {
   "cell_type": "code",
   "execution_count": 83,
   "metadata": {},
   "outputs": [
    {
     "data": {
      "text/plain": [
       "[168.9, 274.3, 3.8]"
      ]
     },
     "execution_count": 83,
     "metadata": {},
     "output_type": "execute_result"
    }
   ],
   "source": [
    "# rawDim line 3 regex result converted to float\n",
    "r3 = [float(p) for p in\n",
    "      re.findall(r'(\\d+\\.\\d+)', s3)]\n",
    "r3"
   ]
  },
  {
   "cell_type": "code",
   "execution_count": 85,
   "metadata": {},
   "outputs": [
    {
     "data": {
      "text/plain": [
       "[35.6, 25.1]"
      ]
     },
     "execution_count": 85,
     "metadata": {},
     "output_type": "execute_result"
    }
   ],
   "source": [
    "# rawDim line 4 regex result converted to float\n",
    "r4 = [float(p) for p in\n",
    "      re.search(r'(\\d{1,3}\\W\\d)\\s.\\s(\\d{1,3}\\W\\d)\\scm\\)$', s4).groups()]\n",
    "r4"
   ]
  },
  {
   "cell_type": "code",
   "execution_count": 88,
   "metadata": {},
   "outputs": [
    {
     "data": {
      "text/plain": [
       "[5.0, 5.0]"
      ]
     },
     "execution_count": 88,
     "metadata": {},
     "output_type": "execute_result"
    }
   ],
   "source": [
    "# rawDim line 5 regex result converted to float\n",
    "r5 = [float(p) for p in\n",
    "      re.search(r'(\\d{1,3})\\D+(\\d{1,3}).{2}$', s5).groups()]\n",
    "r5"
   ]
  }
 ],
 "metadata": {
  "interpreter": {
   "hash": "92b1aa4e0bbc676d0e08a25aec1dec449e78efa34ab1bdcd4f579a2b09ce80f4"
  },
  "kernelspec": {
   "display_name": "Python 3 (ipykernel)",
   "language": "python",
   "name": "python3"
  },
  "language_info": {
   "codemirror_mode": {
    "name": "ipython",
    "version": 3
   },
   "file_extension": ".py",
   "mimetype": "text/x-python",
   "name": "python",
   "nbconvert_exporter": "python",
   "pygments_lexer": "ipython3",
   "version": "3.8.10"
  }
 },
 "nbformat": 4,
 "nbformat_minor": 2
}
