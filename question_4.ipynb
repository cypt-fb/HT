{
 "cells": [
  {
   "cell_type": "code",
   "execution_count": null,
   "id": "bca7e433",
   "metadata": {},
   "outputs": [],
   "source": [
    "import os\n",
    "import pandas as pd\n",
    "\n",
    "# create file path\n",
    "CWD = os.getcwd()\n",
    "PTH = f'{CWD}/Data Engineer Scraping test - 17-06-21/'\n",
    "\n",
    "flights = pd.read_csv(f\"{PTH}candidateEvalData/flights.csv\")\n",
    "airports = pd.read_csv(f\"{PTH}candidateEvalData/airports.csv\")\n",
    "weather = pd.read_csv(f\"{PTH}candidateEvalData/weather.csv\")\n",
    "airlines = pd.read_csv(f\"{PTH}candidateEvalData/airlines.csv\")"
   ]
  },
  {
   "cell_type": "markdown",
   "id": "9081bd81",
   "metadata": {},
   "source": [
    "# Question 4 - Joins"
   ]
  },
  {
   "cell_type": "markdown",
   "id": "a553794e",
   "metadata": {},
   "source": [
    "# Task 1 : Describe inner join, left join, right join, full join."
   ]
  },
  {
   "cell_type": "markdown",
   "id": "327739c2",
   "metadata": {},
   "source": [
    "1. Inner Join: Returns only the set of records that match in both tables.\n",
    "\n",
    "2. Left Join: Returns all of the records from the left table and the set of records that match from the right table. Records that don't match in the right table will return null.\n",
    "\n",
    "3. Right Join: Returns all of records in the right table and the set of records that match in the left table. Records in the left table that don't match will return null.\n",
    "\n",
    "4. Full Join:  Returns all records from both left and right tables with matching records from both tables where they exist. Records in either table that don't match return null. "
   ]
  },
  {
   "cell_type": "markdown",
   "id": "b3600bb9",
   "metadata": {},
   "source": [
    "# Task 2 : Write the SQL to do the following:"
   ]
  },
  {
   "cell_type": "markdown",
   "id": "0239f8a6",
   "metadata": {},
   "source": [
    "1. Add full airline name to the flights dataframe and show the arr_time, origin, dest and the name of the airline.\n",
    "\n",
    "Wasn't sure if you wanted actual SQL or the pandas DataFrame equivalent so I have provided both:"
   ]
  },
  {
   "cell_type": "markdown",
   "id": "c5eee6ad",
   "metadata": {},
   "source": [
    "SQL:\n",
    "SELECT arr_time, origin, dest, airlines.name\n",
    "FROM flights, airlines\n",
    "WHERE flights.carrier = airlines.carrier;"
   ]
  },
  {
   "cell_type": "code",
   "execution_count": null,
   "id": "3722b4c3",
   "metadata": {},
   "outputs": [],
   "source": [
    "# pandas:\n",
    "df_1 = flights[['carrier', 'arr_time', 'origin', 'dest']]\\\n",
    "        .merge(airlines[['carrier', 'name']], on='carrier', how='inner')\\\n",
    "        .drop(columns='carrier')\n",
    "df_1.head(20)"
   ]
  },
  {
   "cell_type": "markdown",
   "id": "02cd8dfc",
   "metadata": {},
   "source": [
    "2. Filter resulting data.frame to include only flights containing the word JetBlue"
   ]
  },
  {
   "cell_type": "markdown",
   "id": "e29617c8",
   "metadata": {},
   "source": [
    "SQL:\n",
    "SELECT arr_time, origin, dest, airlines.name\n",
    "FROM flights, airlines\n",
    "WHERE flights.carrier = airlines.carrier\n",
    "AND airlines.name LIKE 'JetBlue%';"
   ]
  },
  {
   "cell_type": "code",
   "execution_count": 99,
   "id": "840a8e34",
   "metadata": {},
   "outputs": [],
   "source": [
    "# pandas\n",
    "df_2 = df_1[df_1['name'].str.contains('JetBlue')]\n",
    "df_2.head(10)"
   ]
  },
  {
   "cell_type": "markdown",
   "id": "eabd3eac",
   "metadata": {},
   "source": [
    "3. Summarise the total number of flights by origin in ascending.\n",
    "\n",
    "I downloaded the full nycflights13_flights.csv for this as the one provided only has 20 records"
   ]
  },
  {
   "cell_type": "markdown",
   "id": "2aa06956",
   "metadata": {},
   "source": [
    "SQL:\n",
    "SELECT origin,\n",
    "COUNT(origin) AS numFlights\n",
    "FROM flights, airlines\n",
    "WHERE flights.carrier = airlines.carrier\n",
    "AND airlines.name LIKE 'JetBlue%'\n",
    "GROUP BY origin\n",
    "ORDER BY COUNT(origin) ASC"
   ]
  },
  {
   "cell_type": "code",
   "execution_count": 112,
   "id": "d0e37b0b",
   "metadata": {},
   "outputs": [],
   "source": [
    "nycflights13 = pd.read_csv(f\"{PTH}candidateEvalData/nycflights13_flights.csv\")"
   ]
  },
  {
   "cell_type": "code",
   "execution_count": 115,
   "id": "08117d86",
   "metadata": {},
   "outputs": [],
   "source": [
    "nyc_df_1 = nycflights13[['carrier', 'arr_time', 'origin', 'dest']]\\\n",
    "            .merge(airlines[['carrier', 'name']], on='carrier', how='inner')\\\n",
    "            .drop(columns='carrier')"
   ]
  },
  {
   "cell_type": "code",
   "execution_count": 126,
   "id": "ede610dd",
   "metadata": {},
   "outputs": [],
   "source": [
    "df_3 = nyc_df_1[nyc_df_1['name'].str.contains('JetBlue')]\\\n",
    "        .groupby('origin')\\\n",
    "        .agg(numFlights=('origin', 'count'))\\\n",
    "        .sort_values('numFlights').reset_index()"
   ]
  },
  {
   "cell_type": "markdown",
   "id": "b1391cf0",
   "metadata": {},
   "source": [
    "4. Filter resulting data.frame to return only origins with more than 10,000 flights."
   ]
  },
  {
   "cell_type": "markdown",
   "id": "b451948d",
   "metadata": {},
   "source": [
    "SQL:\n",
    "SELECT origin,\n",
    "COUNT(origin) AS numFlights\n",
    "FROM flights, airlines\n",
    "WHERE flights.carrier = airlines.carrier\n",
    "AND airlines.name LIKE 'JetBlue%'\n",
    "GROUP BY origin\n",
    "HAVING COUNT(origin) > 10000\n",
    "ORDER BY COUNT(origin) ASC"
   ]
  },
  {
   "cell_type": "code",
   "execution_count": null,
   "id": "50346fbe",
   "metadata": {},
   "outputs": [],
   "source": [
    "df_4 = df_3[df_3['numFlights'] > 10000]\n",
    "df_4.style.hide_index()"
   ]
  }
 ],
 "metadata": {
  "kernelspec": {
   "display_name": "Python 3 (ipykernel)",
   "language": "python",
   "name": "python3"
  },
  "language_info": {
   "codemirror_mode": {
    "name": "ipython",
    "version": 3
   },
   "file_extension": ".py",
   "mimetype": "text/x-python",
   "name": "python",
   "nbconvert_exporter": "python",
   "pygments_lexer": "ipython3",
   "version": "3.8.10"
  }
 },
 "nbformat": 4,
 "nbformat_minor": 5
}
